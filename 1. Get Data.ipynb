{
 "cells": [
  {
   "cell_type": "code",
   "execution_count": 1,
   "metadata": {},
   "outputs": [],
   "source": [
    "import requests\n",
    "import json"
   ]
  },
  {
   "cell_type": "code",
   "execution_count": 2,
   "metadata": {},
   "outputs": [],
   "source": [
    "url = \"https://api.stratz.com/graphql\"\n",
    "api_token = \"YOUR_TOKEN\"\n",
    "headers = {\"Authorization\": f\"Bearer {api_token}\"}"
   ]
  },
  {
   "cell_type": "code",
   "execution_count": 3,
   "metadata": {},
   "outputs": [],
   "source": [
    "query = \"\"\"\n",
    "{\n",
    "  leagues(request: {leagueIds: [15438,15251,15089,15196,15439]}) {\n",
    "    id\n",
    "    displayName\n",
    "    series (take: 100,) {\n",
    "      id\n",
    "      type\n",
    "      leagueId\n",
    "      lastMatchDateTime\n",
    "      teamOne {\n",
    "        id\n",
    "        name\n",
    "      }\n",
    "      teamTwo {\n",
    "        id\n",
    "        name\n",
    "      }\n",
    "      teamOneWinCount\n",
    "      teamTwoWinCount\n",
    "      winningTeamId\n",
    "    }\n",
    "  }}\n",
    "\n",
    "\n",
    "\n",
    "\"\"\""
   ]
  },
  {
   "cell_type": "code",
   "execution_count": 4,
   "metadata": {},
   "outputs": [],
   "source": [
    "r = requests.post(url, json={\"query\":query}, headers=headers)"
   ]
  },
  {
   "cell_type": "code",
   "execution_count": 5,
   "metadata": {},
   "outputs": [],
   "source": [
    "data = r.json()"
   ]
  },
  {
   "cell_type": "code",
   "execution_count": 10,
   "metadata": {},
   "outputs": [],
   "source": [
    "to_save = []\n",
    "leagues = data[\"data\"][\"leagues\"]\n",
    "for l in leagues:\n",
    "    to_save.extend(l[\"series\"])"
   ]
  },
  {
   "cell_type": "code",
   "execution_count": 13,
   "metadata": {},
   "outputs": [],
   "source": [
    "with open(\"2023-dota2series.json\",\"w\") as file:\n",
    "    # json.dump(to_save,file)"
   ]
  }
 ],
 "metadata": {
  "kernelspec": {
   "display_name": "Python 3",
   "language": "python",
   "name": "python3"
  },
  "language_info": {
   "codemirror_mode": {
    "name": "ipython",
    "version": 3
   },
   "file_extension": ".py",
   "mimetype": "text/x-python",
   "name": "python",
   "nbconvert_exporter": "python",
   "pygments_lexer": "ipython3",
   "version": "3.11.3"
  },
  "orig_nbformat": 4
 },
 "nbformat": 4,
 "nbformat_minor": 2
}
